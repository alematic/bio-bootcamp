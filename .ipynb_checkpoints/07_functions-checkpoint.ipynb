{
 "cells": [
  {
   "cell_type": "markdown",
   "id": "ae55e276-af23-40b2-8f64-7f0975482d93",
   "metadata": {},
   "source": [
    "just try to replicate"
   ]
  },
  {
   "cell_type": "code",
   "execution_count": 2,
   "id": "84705efe-178b-4fc6-912e-540019156161",
   "metadata": {
    "tags": []
   },
   "outputs": [],
   "source": [
    "def think_too_much():\n",
    "    \"\"\"Express Caesar's skepticism about Cassius\"\"\"\n",
    "    print(\"\"\"Yond Cassius has a lean and hungry look,\n",
    "He thinks too much; such men are dangerous.\"\"\")"
   ]
  },
  {
   "cell_type": "code",
   "execution_count": 5,
   "id": "da5d59b0-c4c1-4bac-abe8-b49679765bd2",
   "metadata": {
    "tags": []
   },
   "outputs": [
    {
     "name": "stdout",
     "output_type": "stream",
     "text": [
      "Yond Cassius has a lean and hungry look,\n",
      "He thinks too much; such men are dangerous.\n"
     ]
    }
   ],
   "source": [
    "think_too_much()"
   ]
  },
  {
   "cell_type": "code",
   "execution_count": 1,
   "id": "bb3d7296-8b9f-4133-b5e9-b387cc3e207b",
   "metadata": {
    "tags": []
   },
   "outputs": [
    {
     "ename": "NameError",
     "evalue": "name 'think_too_much' is not defined",
     "output_type": "error",
     "traceback": [
      "\u001b[1;31m---------------------------------------------------------------------------\u001b[0m",
      "\u001b[1;31mNameError\u001b[0m                                 Traceback (most recent call last)",
      "Cell \u001b[1;32mIn[1], line 1\u001b[0m\n\u001b[1;32m----> 1\u001b[0m \u001b[38;5;28mprint\u001b[39m(think_too_much())\n",
      "\u001b[1;31mNameError\u001b[0m: name 'think_too_much' is not defined"
     ]
    }
   ],
   "source": [
    "print(think_too_much())\n"
   ]
  },
  {
   "cell_type": "markdown",
   "id": "d986867b-c127-4c63-82b4-fddf669c5fe3",
   "metadata": {},
   "source": [
    "To write a function that complements and reverses the bases of a sequence "
   ]
  },
  {
   "cell_type": "code",
   "execution_count": 4,
   "id": "6397187d-3f77-4a8e-ac33-af1f1c8b2b4c",
   "metadata": {
    "tags": []
   },
   "outputs": [],
   "source": [
    "def complement_base(base):\n",
    "    \"\"\"Returns the Watson-Crick complement of a base.\"\"\"\n",
    "    if base in 'Aa':\n",
    "        return 'T'\n",
    "    elif base in 'Tt':\n",
    "        return 'A'\n",
    "    elif base in 'Gg':\n",
    "        return 'C'\n",
    "    else:\n",
    "        return 'G'\n",
    "\n",
    "\n",
    "def reverse_complement(seq):\n",
    "    \"\"\"Compute reverse complement of a sequence.\"\"\"\n",
    "    # Initialize reverse complement\n",
    "    rev_seq = ''\n",
    "\n",
    "    # Loop through and populate list with reverse complement\n",
    "    for base in reversed(seq):\n",
    "        rev_seq += complement_base(base)\n",
    "\n",
    "    return rev_seq"
   ]
  },
  {
   "cell_type": "markdown",
   "id": "1602a1df-9bb4-4ebf-9c0e-032c122b4f24",
   "metadata": {},
   "source": [
    "note that\n",
    "- first function doesnt return anything\n",
    "- "
   ]
  },
  {
   "cell_type": "code",
   "execution_count": 6,
   "id": "3665f765-f219-490c-ade0-a8f7ffffc146",
   "metadata": {
    "tags": []
   },
   "outputs": [
    {
     "ename": "IndentationError",
     "evalue": "unexpected indent (2679338132.py, line 2)",
     "output_type": "error",
     "traceback": [
      "\u001b[1;36m  Cell \u001b[1;32mIn[6], line 2\u001b[1;36m\u001b[0m\n\u001b[1;33m    a, b, c = sorted([a, b, c])\u001b[0m\n\u001b[1;37m    ^\u001b[0m\n\u001b[1;31mIndentationError\u001b[0m\u001b[1;31m:\u001b[0m unexpected indent\n"
     ]
    }
   ],
   "source": [
    " # Use sorted(), which gives a sorted list\n",
    "    a, b, c = sorted([a, b, c])\n",
    "    \n",
    "  # Check to see if it is almost a right triangle\n",
    "if abs(a**2 + b**2 - c**2) < 1e-12:\n",
    "    return True\n",
    "else:\n",
    "    return False"
   ]
  },
  {
   "cell_type": "markdown",
   "id": "b44fc5c4-e575-4e67-984c-0d4de104be5a",
   "metadata": {
    "tags": []
   },
   "source": [
    "Now, let’s say we had a tuple with the triangle side lengths in it.\n",
    "\n",
    "side_lengths = (13, 5, 12)\n",
    "We can pass these all in separately by splitting the tuple but putting a * in front of it. A * before a tuple used in this way is referred an unpacking operator, and is referred to by some programmers as a “splat.”\n",
    "\n",
    "is_almost_right(*side_lengths)\n",
    "True\n",
    "This can be very convenient, and we will definitely use this feature later in the bootcamp when we do some string formatting."
   ]
  }
 ],
 "metadata": {
  "kernelspec": {
   "display_name": "Python 3 (ipykernel)",
   "language": "python",
   "name": "python3"
  },
  "language_info": {
   "codemirror_mode": {
    "name": "ipython",
    "version": 3
   },
   "file_extension": ".py",
   "mimetype": "text/x-python",
   "name": "python",
   "nbconvert_exporter": "python",
   "pygments_lexer": "ipython3",
   "version": "3.11.4"
  }
 },
 "nbformat": 4,
 "nbformat_minor": 5
}
