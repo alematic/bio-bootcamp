{
 "cells": [
  {
   "cell_type": "markdown",
   "id": "76a2b0d3-c4b1-43e7-bea5-b6ba4bc13f46",
   "metadata": {},
   "source": [
    "see how a decimal number is represented in binary"
   ]
  },
  {
   "cell_type": "code",
   "execution_count": 1,
   "id": "3220084e-0893-42f9-a023-013f48e5c823",
   "metadata": {
    "tags": []
   },
   "outputs": [
    {
     "data": {
      "text/plain": [
       "'11000010'"
      ]
     },
     "execution_count": 1,
     "metadata": {},
     "output_type": "execute_result"
    }
   ],
   "source": [
    "'{0:b}'.format(194) #2^7 + 2^6 + 2^1"
   ]
  },
  {
   "cell_type": "markdown",
   "id": "3441556f-30a4-42e2-9eb8-b58eb53f8e64",
   "metadata": {},
   "source": [
    "perform bitwise XOR"
   ]
  },
  {
   "cell_type": "code",
   "execution_count": 6,
   "id": "6512b128-4d48-444b-acc2-fcd313d682aa",
   "metadata": {
    "tags": []
   },
   "outputs": [
    {
     "data": {
      "text/plain": [
       "194"
      ]
     },
     "execution_count": 6,
     "metadata": {},
     "output_type": "execute_result"
    }
   ],
   "source": [
    "10^200 "
   ]
  },
  {
   "cell_type": "markdown",
   "id": "f153979f-7426-4a8e-8ef5-d0206dc2f318",
   "metadata": {},
   "source": [
    "compares the bits and gives a 1 as output if the output matches with XOR:"
   ]
  },
  {
   "cell_type": "markdown",
   "id": "43b053ba-1c8e-4212-8253-830081ffdb85",
   "metadata": {},
   "source": [
    "i.e. 00001010 and 11001000 are compared, i.e. 10 and 200 and compared (..0+8+4*0+2*1+0=10 and 128+64+0+0+8+0..=200) and 194 is returned, i.e. 11000010 = 128+64+2"
   ]
  },
  {
   "cell_type": "markdown",
   "id": "82b8e4f3-5c70-4109-8a24-dd996d5d9ed6",
   "metadata": {},
   "source": [
    "represent a decimal number in binary:"
   ]
  },
  {
   "cell_type": "code",
   "execution_count": 13,
   "id": "cebbfa24-3c6b-42d9-866b-f9f3d77c5a9e",
   "metadata": {
    "tags": []
   },
   "outputs": [
    {
     "data": {
      "text/plain": [
       "'11000010'"
      ]
     },
     "execution_count": 13,
     "metadata": {},
     "output_type": "execute_result"
    }
   ],
   "source": [
    "'{0:b}'.format(194)"
   ]
  },
  {
   "cell_type": "markdown",
   "id": "3a87c639-4b90-489e-8d50-ccb6713329dd",
   "metadata": {},
   "source": [
    "These two are the same: aas the first n cubed integeres are equal to the sum of the n squared"
   ]
  },
  {
   "cell_type": "code",
   "execution_count": 9,
   "id": "6579e70b-6209-46dd-bc6d-692aa0ea7a24",
   "metadata": {
    "tags": []
   },
   "outputs": [
    {
     "data": {
      "text/plain": [
       "36"
      ]
     },
     "execution_count": 9,
     "metadata": {},
     "output_type": "execute_result"
    }
   ],
   "source": [
    "1**3+2**3+3**3"
   ]
  },
  {
   "cell_type": "code",
   "execution_count": 14,
   "id": "46137d82-6892-4004-aab8-a78ed516e60b",
   "metadata": {
    "tags": []
   },
   "outputs": [
    {
     "data": {
      "text/plain": [
       "36"
      ]
     },
     "execution_count": 14,
     "metadata": {},
     "output_type": "execute_result"
    }
   ],
   "source": [
    "(1+2+3)**2"
   ]
  },
  {
   "cell_type": "markdown",
   "id": "d2c5deda-a6b9-4d71-a045-035d622c9a7e",
   "metadata": {},
   "source": [
    "variables: have an assigned value and a type, the increment operator adds to the variable the consequent value"
   ]
  },
  {
   "cell_type": "code",
   "execution_count": 15,
   "id": "7ab797cc-9038-45fc-891a-006566508449",
   "metadata": {
    "tags": []
   },
   "outputs": [
    {
     "data": {
      "text/plain": [
       "10"
      ]
     },
     "execution_count": 15,
     "metadata": {},
     "output_type": "execute_result"
    }
   ],
   "source": [
    "a=5\n",
    "a+=5 # equal to a = a + 5\n",
    "a"
   ]
  },
  {
   "cell_type": "markdown",
   "id": "757d07aa-e913-4f30-a4eb-38fe4d632bec",
   "metadata": {},
   "source": [
    "convert a string containing numbers from the actual string to an integer"
   ]
  },
  {
   "cell_type": "code",
   "execution_count": 23,
   "id": "30ad5e89-b99e-44f9-8702-f69b36fdbee8",
   "metadata": {
    "tags": []
   },
   "outputs": [
    {
     "name": "stdout",
     "output_type": "stream",
     "text": [
      "42 <class 'int'>\n"
     ]
    }
   ],
   "source": [
    "my_str = '42'\n",
    "my_int = int(my_str)\n",
    "print(my_int, type(my_int))"
   ]
  },
  {
   "cell_type": "markdown",
   "id": "d3c14011-320c-450e-86c5-eb400ab2d9c9",
   "metadata": {},
   "source": [
    "or convert the string to an integer"
   ]
  },
  {
   "cell_type": "code",
   "execution_count": 24,
   "id": "150adb2a-3ce6-472c-87b6-c9e85f002242",
   "metadata": {
    "tags": []
   },
   "outputs": [
    {
     "name": "stdout",
     "output_type": "stream",
     "text": [
      "42 <class 'int'>\n"
     ]
    }
   ],
   "source": [
    "str(my_int)\n",
    "print(my_int, type(my_int))"
   ]
  },
  {
   "cell_type": "code",
   "execution_count": 25,
   "id": "b319341f-685a-4658-8592-7a42f21414a8",
   "metadata": {
    "tags": []
   },
   "outputs": [
    {
     "data": {
      "text/plain": [
       "int"
      ]
     },
     "execution_count": 25,
     "metadata": {},
     "output_type": "execute_result"
    }
   ],
   "source": [
    "type(my_int) ## this didnt worked"
   ]
  },
  {
   "cell_type": "markdown",
   "id": "5e155d9e-5d53-48fc-8dff-e66846518e8d",
   "metadata": {},
   "source": [
    "converting a float to an integer just gives us the floor and doesnt rounds the result"
   ]
  },
  {
   "cell_type": "code",
   "execution_count": 27,
   "id": "1c3b3416-532b-49a3-ba74-f55fb7e24147",
   "metadata": {
    "tags": []
   },
   "outputs": [
    {
     "data": {
      "text/plain": [
       "2"
      ]
     },
     "execution_count": 27,
     "metadata": {},
     "output_type": "execute_result"
    }
   ],
   "source": [
    "int(2.999)"
   ]
  },
  {
   "cell_type": "code",
   "execution_count": 29,
   "id": "2e6d60cf-dae5-4159-82c0-30f2322fa84a",
   "metadata": {
    "tags": []
   },
   "outputs": [
    {
     "name": "stdout",
     "output_type": "stream",
     "text": [
      "42\n",
      "6\n"
     ]
    }
   ],
   "source": [
    "#watch out for this too\n",
    "print('4' + '2')\n",
    "print(int('4') + int('2'))"
   ]
  },
  {
   "cell_type": "markdown",
   "id": "9a92d51e-8d1c-40c5-bedd-c3db0013266a",
   "metadata": {},
   "source": [
    "<i>Never use the == operator with floats.</i>"
   ]
  },
  {
   "cell_type": "code",
   "execution_count": null,
   "id": "95a38f5b-818d-49df-90df-da7fdafe4d13",
   "metadata": {},
   "outputs": [],
   "source": [
    "!= #not equal"
   ]
  },
  {
   "cell_type": "markdown",
   "id": "c95621a7-58ac-4b02-9d67-f7c42a15399a",
   "metadata": {},
   "source": [
    "Unicode based strings"
   ]
  },
  {
   "cell_type": "code",
   "execution_count": 32,
   "id": "d5377490-20c8-4071-b613-0e49336166a6",
   "metadata": {
    "tags": []
   },
   "outputs": [
    {
     "data": {
      "text/plain": [
       "True"
      ]
     },
     "execution_count": 32,
     "metadata": {},
     "output_type": "execute_result"
    }
   ],
   "source": [
    "ord('a') #assess number associated with character\n",
    "ord('λ')\n",
    "\n",
    "# relational operators compare the values that the ord() function is returning\n",
    "\n",
    "'a'<'λ' #true"
   ]
  },
  {
   "cell_type": "markdown",
   "id": "82b12346-d644-41d2-a2ec-dd0f4f1cedd2",
   "metadata": {},
   "source": [
    "Python allow chaining of relational operators."
   ]
  },
  {
   "cell_type": "code",
   "execution_count": 37,
   "id": "e330ab22-4b88-49f1-acfd-9764ee99d501",
   "metadata": {
    "tags": []
   },
   "outputs": [
    {
     "data": {
      "text/plain": [
       "True"
      ]
     },
     "execution_count": 37,
     "metadata": {},
     "output_type": "execute_result"
    }
   ],
   "source": [
    "4 < 6 < 6.1 < 9.3\n",
    "\n",
    "#important not to do the following, even though it is legal\n",
    "4 < 6.1 > 5"
   ]
  },
  {
   "cell_type": "markdown",
   "id": "77fa38bf-f68b-4476-ab9c-01d63bdff723",
   "metadata": {
    "tags": []
   },
   "source": [
    "<i>Do not mix the directions of chained relational operators.</i>"
   ]
  },
  {
   "cell_type": "markdown",
   "id": "8735911b-e453-4139-ac91-203c5b5e480f",
   "metadata": {},
   "source": [
    "<b>identity operators</b>"
   ]
  },
  {
   "cell_type": "code",
   "execution_count": 46,
   "id": "fa5e96ba-dde8-4e44-aabc-e2cb9f54d47a",
   "metadata": {
    "tags": []
   },
   "outputs": [
    {
     "data": {
      "text/plain": [
       "(False, True)"
      ]
     },
     "execution_count": 46,
     "metadata": {},
     "output_type": "execute_result"
    }
   ],
   "source": [
    "a=3.0\n",
    "b=3.0\n",
    "\n",
    "a is b, a is not b"
   ]
  },
  {
   "cell_type": "markdown",
   "id": "c7664b00-a981-473d-aa2f-9a02c41a16d6",
   "metadata": {},
   "source": [
    "happens to store the two values in two different places in memory, so if one wants to compare the floats...."
   ]
  },
  {
   "cell_type": "code",
   "execution_count": 47,
   "id": "170cff31-e81b-4f8f-aa07-e8f710cb9cb3",
   "metadata": {
    "tags": []
   },
   "outputs": [
    {
     "data": {
      "text/plain": [
       "(True, True)"
      ]
     },
     "execution_count": 47,
     "metadata": {},
     "output_type": "execute_result"
    }
   ],
   "source": [
    "a = 5.6\n",
    "b = a\n",
    "\n",
    "a == b, a is b"
   ]
  },
  {
   "cell_type": "markdown",
   "id": "96816dbb-8f3e-4dc3-a8d3-a04ca35c05e2",
   "metadata": {},
   "source": [
    "for integers, Python employs integer caching for all integers between -5 and 256... so they are stored in the same place"
   ]
  },
  {
   "cell_type": "code",
   "execution_count": 50,
   "id": "574634af-b417-47cd-a494-218bcd6be2da",
   "metadata": {
    "tags": []
   },
   "outputs": [
    {
     "data": {
      "text/plain": [
       "(False, True)"
      ]
     },
     "execution_count": 50,
     "metadata": {},
     "output_type": "execute_result"
    }
   ],
   "source": [
    "a = 257\n",
    "b = 257\n",
    "c = 256\n",
    "d = 256\n",
    "\n",
    "a is b, c is d"
   ]
  },
  {
   "cell_type": "markdown",
   "id": "804a2946-e82e-45c3-8136-38305d0b3c44",
   "metadata": {},
   "source": [
    "same story for strings, it depends on which string to be stored either in the same place or not.\n"
   ]
  },
  {
   "cell_type": "markdown",
   "id": "d3fd0ead-0e48-4f84-916b-5f43bfb8e393",
   "metadata": {
    "tags": []
   },
   "source": [
    "<b>precedence of operators </b>\n",
    "\n",
    "1  **\n",
    "\n",
    "2  *, /, //, %\n",
    "\n",
    "3  +, -\n",
    "\n",
    "4  <, >, <=, >=\n",
    "\n",
    "5  ==, !=\n",
    "\n",
    "6  =, +=, -=, *=, /=, **=, %=, //=\n",
    "\n",
    "7  is, is not\n",
    "\n",
    "8  and, or, not"
   ]
  },
  {
   "cell_type": "markdown",
   "id": "6b1815dc-fa7d-4be2-a904-1f64b546587f",
   "metadata": {},
   "source": [
    "mebership operators, come later:\n",
    "in\n",
    "not in\n",
    "\n",
    "not in bootcamp: bitwise operators and operators on sets"
   ]
  },
  {
   "cell_type": "code",
   "execution_count": null,
   "id": "d041ab0e-b595-443f-8867-c15358a2d83d",
   "metadata": {},
   "outputs": [],
   "source": []
  },
  {
   "cell_type": "code",
   "execution_count": null,
   "id": "6f5c3ffb-507a-41cc-9656-f449644da5e7",
   "metadata": {},
   "outputs": [],
   "source": []
  }
 ],
 "metadata": {
  "kernelspec": {
   "display_name": "Python 3 (ipykernel)",
   "language": "python",
   "name": "python3"
  },
  "language_info": {
   "codemirror_mode": {
    "name": "ipython",
    "version": 3
   },
   "file_extension": ".py",
   "mimetype": "text/x-python",
   "name": "python",
   "nbconvert_exporter": "python",
   "pygments_lexer": "ipython3",
   "version": "3.11.4"
  }
 },
 "nbformat": 4,
 "nbformat_minor": 5
}
