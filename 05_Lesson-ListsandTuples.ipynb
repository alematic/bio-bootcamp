{
 "cells": [
  {
   "cell_type": "markdown",
   "id": "6b4a87ac-889a-48fc-9395-3dfc8488b1d5",
   "metadata": {},
   "source": [
    "membership operators return True or False"
   ]
  },
  {
   "cell_type": "code",
   "execution_count": 1,
   "id": "1da24d42-a884-4ae3-9857-7982696ec693",
   "metadata": {
    "tags": []
   },
   "outputs": [],
   "source": [
    "my_list = [0, 1, 2, 3, 4, 5, 6, 7, 8, 9, 10]"
   ]
  },
  {
   "cell_type": "code",
   "execution_count": null,
   "id": "629e39b8-950d-4f36-b277-1b5dfdc15d40",
   "metadata": {},
   "outputs": [],
   "source": [
    "my_list_2 = [1, 2.4, 'a string', ['a string in another list', 5]]\n",
    "1 in my_list_2"
   ]
  },
  {
   "cell_type": "markdown",
   "id": "b63979d4-6220-4f30-93a9-39805f2fe92c",
   "metadata": {},
   "source": [
    "List indexing with [i:j] is inclusive for i but exclusive for j (goes to j-1)"
   ]
  },
  {
   "cell_type": "code",
   "execution_count": null,
   "id": "a4038bd6-b939-44f5-978c-387989102b0c",
   "metadata": {},
   "outputs": [],
   "source": [
    "my_list[0:-3] #negative indices work as well\n",
    "[0, 1, 2, 3, 4, 5, 6, 7]\n",
    "Again, note that we only went to index -4."
   ]
  },
  {
   "cell_type": "markdown",
   "id": "b90b3d22-f115-4d45-9635-1d4ba2b1fb87",
   "metadata": {},
   "source": [
    "The stride comes after a second colon. For example, if we only wanted the even numbers, we could do the following."
   ]
  },
  {
   "cell_type": "code",
   "execution_count": 2,
   "id": "95a1ff90-3ca3-430a-abef-5adde729d945",
   "metadata": {
    "tags": []
   },
   "outputs": [
    {
     "data": {
      "text/plain": [
       "[0, 2, 4, 6, 8, 10]"
      ]
     },
     "execution_count": 2,
     "metadata": {},
     "output_type": "execute_result"
    }
   ],
   "source": [
    "my_list[0::2]\n",
    "[0, 2, 4, 6, 8, 10]"
   ]
  },
  {
   "cell_type": "markdown",
   "id": "454481b9-bbc6-4f81-ac23-5bc48ca86d57",
   "metadata": {},
   "source": [
    "General indexing scheme:\n",
    "\n",
    "my_list[start:end:stride]\n",
    "\n",
    "If there is one colon, stride is assumed to be 1.\n",
    "\n",
    "If start is not specified, it is assumed to be zero.\n",
    "\n",
    "If end is not specified, the interpreted assumed you want the entire list.\n",
    "\n",
    "If stride is not specified, it is assumed to be 1."
   ]
  },
  {
   "cell_type": "markdown",
   "id": "d6d1f101-2eca-4483-8c2f-0a0ccf755140",
   "metadata": {},
   "source": [
    "negative stride, which results in reversing the list."
   ]
  },
  {
   "cell_type": "code",
   "execution_count": 3,
   "id": "eb116e8b-593f-489b-ba5d-d7a5770a2365",
   "metadata": {
    "tags": []
   },
   "outputs": [
    {
     "data": {
      "text/plain": [
       "[10, 9, 8, 7, 6, 5, 4, 3, 2, 1, 0]"
      ]
     },
     "execution_count": 3,
     "metadata": {},
     "output_type": "execute_result"
    }
   ],
   "source": [
    "\n",
    "my_list[::-1]\n"
   ]
  },
  {
   "cell_type": "markdown",
   "id": "1858e4dc-92e7-49bf-8ba6-ee84ff9d5ec9",
   "metadata": {
    "tags": []
   },
   "source": [
    "understand these examples"
   ]
  },
  {
   "cell_type": "code",
   "execution_count": 5,
   "id": "4f3999ff-faed-4559-83c6-fc29d97a9640",
   "metadata": {
    "tags": []
   },
   "outputs": [
    {
     "name": "stdout",
     "output_type": "stream",
     "text": [
      "[2, 4, 6, 8, 10]\n",
      "[2, 4, 6, 8]\n",
      "[9, 7, 5, 3, 1]\n",
      "[9, 7, 5, 3]\n",
      "[]\n"
     ]
    }
   ],
   "source": [
    "print(my_list[2::2])\n",
    "print(my_list[2:-1:2])\n",
    "print(my_list[-2::-2])\n",
    "print(my_list[-2:2:-2])\n",
    "print(my_list[2:2:-2])"
   ]
  },
  {
   "cell_type": "markdown",
   "id": "34836da1-b50e-46f8-b801-729cf427be61",
   "metadata": {},
   "source": [
    "but take care to make it readable and understandable, here instead of my_list[2:-1:2]"
   ]
  },
  {
   "cell_type": "code",
   "execution_count": 6,
   "id": "7f73d897-eae0-4a25-8356-af3d8c56d9b1",
   "metadata": {
    "tags": []
   },
   "outputs": [
    {
     "data": {
      "text/plain": [
       "[2, 4, 6, 8]"
      ]
     },
     "execution_count": 6,
     "metadata": {},
     "output_type": "execute_result"
    }
   ],
   "source": [
    "# Extract evens\n",
    "evens = my_list[::2]\n",
    "\n",
    "# Cut off end values\n",
    "evens_without_end_values = evens[1:-1]\n",
    "\n",
    "evens_without_end_values"
   ]
  },
  {
   "cell_type": "markdown",
   "id": "d3aa0367-6752-40db-9f81-e72efe83f592",
   "metadata": {},
   "source": [
    "use the id() function, which tells us where in memory that the variable is stored"
   ]
  },
  {
   "cell_type": "code",
   "execution_count": 7,
   "id": "1d3aa64a-d472-4646-aeb4-5a9a93a65c2d",
   "metadata": {
    "tags": []
   },
   "outputs": [
    {
     "name": "stdout",
     "output_type": "stream",
     "text": [
      "1911101983696\n",
      "1911101983312\n"
     ]
    }
   ],
   "source": [
    "a = 689\n",
    "print(id(a))\n",
    "\n",
    "a = 690\n",
    "print(id(a))"
   ]
  },
  {
   "cell_type": "markdown",
   "id": "a8fb1588-a44a-4efb-ac88-42bfe64a4f49",
   "metadata": {},
   "source": [
    "didn’t actually change its value; we made a new variable. With lists, though, this is not the case"
   ]
  },
  {
   "cell_type": "code",
   "execution_count": 9,
   "id": "1311fc9e-5857-442a-bd3d-bc4045e0b760",
   "metadata": {
    "tags": []
   },
   "outputs": [
    {
     "name": "stdout",
     "output_type": "stream",
     "text": [
      "1911103017856\n",
      "1911103017856\n"
     ]
    },
    {
     "data": {
      "text/plain": [
       "['zero', 1, 2, 3, 4, 5, 6, 7, 8, 9, 10]"
      ]
     },
     "execution_count": 9,
     "metadata": {},
     "output_type": "execute_result"
    }
   ],
   "source": [
    "print(id(my_list))\n",
    "\n",
    "my_list[0] = 'zero'\n",
    "print(id(my_list))\n",
    "my_list"
   ]
  },
  {
   "cell_type": "code",
   "execution_count": 12,
   "id": "412ed33e-6629-4d0f-be92-ea34679d6ec7",
   "metadata": {},
   "outputs": [],
   "source": [
    "# Should it be a list?\n",
    "stop_codons = ['UAA', 'UAG', 'UGA']\n",
    "\n",
    "# or a tuple?\n",
    "stop_codons = ('UAA', 'UAG', 'UGA')"
   ]
  },
  {
   "cell_type": "code",
   "execution_count": 13,
   "id": "dbd4a879",
   "metadata": {},
   "outputs": [
    {
     "data": {
      "text/plain": [
       "'UAG'"
      ]
     },
     "execution_count": 13,
     "metadata": {},
     "output_type": "execute_result"
    }
   ],
   "source": [
    "stop_codons[1]\n"
   ]
  }
 ],
 "metadata": {
  "kernelspec": {
   "display_name": "Python 3 (ipykernel)",
   "language": "python",
   "name": "python3"
  },
  "language_info": {
   "codemirror_mode": {
    "name": "ipython",
    "version": 3
   },
   "file_extension": ".py",
   "mimetype": "text/x-python",
   "name": "python",
   "nbconvert_exporter": "python",
   "pygments_lexer": "ipython3",
   "version": "3.11.4"
  }
 },
 "nbformat": 4,
 "nbformat_minor": 5
}
