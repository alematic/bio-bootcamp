{
 "cells": [
  {
   "cell_type": "code",
   "execution_count": 3,
   "id": "a3350413-30d0-4b58-aad9-0d22d4589dd8",
   "metadata": {
    "tags": []
   },
   "outputs": [
    {
     "name": "stdout",
     "output_type": "stream",
     "text": [
      "Beautiful is better than ugly.\n",
      "Explicit is better than implicit.\n",
      "Simple is better than complex.\n",
      "Complex is better than complicated.\n"
     ]
    }
   ],
   "source": [
    "# The first few lines from The Zen of Python by Tim Peters\n",
    "print('Beautiful is better than ugly.')\n",
    "print('Explicit is better than implicit.')\n",
    "print('Simple is better than complex.')\n",
    "print('Complex is better than complicated.')"
   ]
  },
  {
   "cell_type": "code",
   "execution_count": 1,
   "id": "0662dab2-edcc-4d57-a5fd-3c988f8f6d17",
   "metadata": {
    "tags": []
   },
   "outputs": [
    {
     "ename": "NameError",
     "evalue": "name 'afdhs' is not defined",
     "output_type": "error",
     "traceback": [
      "\u001b[1;31m---------------------------------------------------------------------------\u001b[0m",
      "\u001b[1;31mNameError\u001b[0m                                 Traceback (most recent call last)",
      "Cell \u001b[1;32mIn[1], line 1\u001b[0m\n\u001b[1;32m----> 1\u001b[0m afdhs\n\u001b[0;32m      3\u001b[0m asdf\n\u001b[0;32m      5\u001b[0m asfd\n",
      "\u001b[1;31mNameError\u001b[0m: name 'afdhs' is not defined"
     ]
    }
   ],
   "source": [
    "\n",
    "afdhs\n",
    "\n",
    "asdf\n",
    "\n",
    "asfd"
   ]
  },
  {
   "cell_type": "markdown",
   "id": "bb422afc-448b-4a2a-b3cf-65c3c3b42cfb",
   "metadata": {},
   "source": [
    "test\n",
    "\n",
    "<table>\n",
    "    <tr>\n",
    "        <td>Foo</td>\n",
    "    </tr>\n",
    "</table>\n",
    "\n",
    "markdown syntax: https://daringfireball.net/projects/markdown/syntax\n"
   ]
  },
  {
   "cell_type": "code",
   "execution_count": 4,
   "id": "4baf47bd-8927-4524-acc7-9d9f2332d138",
   "metadata": {
    "tags": []
   },
   "outputs": [
    {
     "ename": "SyntaxError",
     "evalue": "invalid syntax (1430195755.py, line 1)",
     "output_type": "error",
     "traceback": [
      "\u001b[1;36m  Cell \u001b[1;32mIn[4], line 1\u001b[1;36m\u001b[0m\n\u001b[1;33m    execute and add new cells with alt+enter\u001b[0m\n\u001b[1;37m                    ^\u001b[0m\n\u001b[1;31mSyntaxError\u001b[0m\u001b[1;31m:\u001b[0m invalid syntax\n"
     ]
    }
   ],
   "source": [
    "execute and add new cells with alt+enter"
   ]
  },
  {
   "cell_type": "code",
   "execution_count": null,
   "id": "8da9536b-cb71-46aa-b806-4616aeb069a4",
   "metadata": {},
   "outputs": [],
   "source": []
  }
 ],
 "metadata": {
  "kernelspec": {
   "display_name": "Python 3 (ipykernel)",
   "language": "python",
   "name": "python3"
  },
  "language_info": {
   "codemirror_mode": {
    "name": "ipython",
    "version": 3
   },
   "file_extension": ".py",
   "mimetype": "text/x-python",
   "name": "python",
   "nbconvert_exporter": "python",
   "pygments_lexer": "ipython3",
   "version": "3.11.4"
  }
 },
 "nbformat": 4,
 "nbformat_minor": 5
}
