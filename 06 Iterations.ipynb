{
 "cells": [
  {
   "cell_type": "code",
   "execution_count": 1,
   "id": "dafbf552",
   "metadata": {},
   "outputs": [
    {
     "data": {
      "text/plain": [
       "0.5517241379310345"
      ]
     },
     "execution_count": 1,
     "metadata": {},
     "output_type": "execute_result"
    }
   ],
   "source": [
    "# The sequence we want to analyze, counting the GC content\n",
    "seq = 'GACAGACUCCAUGCACGUGGGUAUCUGUC'\n",
    "\n",
    "# Initialize GC counter\n",
    "n_gc = 0\n",
    "\n",
    "# Initialize sequence length\n",
    "len_seq = 0\n",
    "\n",
    "# Loop through sequence and count G's and C's\n",
    "for base in seq:\n",
    "    len_seq += 1\n",
    "    if base in 'GCgc':\n",
    "        n_gc += 1\n",
    "\n",
    "# Divide to get GC content\n",
    "n_gc / len_seq"
   ]
  },
  {
   "cell_type": "markdown",
   "id": "37a97939",
   "metadata": {},
   "source": [
    "Python: <i>for base in seq:</i> #sequences, and python script in <i>italic</i>\n",
    "\n",
    "English: for each character in the string whose variable name is seq (len_seq counts), do the following, with that character taking the name base"
   ]
  }
 ],
 "metadata": {
  "kernelspec": {
   "display_name": "Python 3 (ipykernel)",
   "language": "python",
   "name": "python3"
  },
  "language_info": {
   "codemirror_mode": {
    "name": "ipython",
    "version": 3
   },
   "file_extension": ".py",
   "mimetype": "text/x-python",
   "name": "python",
   "nbconvert_exporter": "python",
   "pygments_lexer": "ipython3",
   "version": "3.11.4"
  }
 },
 "nbformat": 4,
 "nbformat_minor": 5
}
